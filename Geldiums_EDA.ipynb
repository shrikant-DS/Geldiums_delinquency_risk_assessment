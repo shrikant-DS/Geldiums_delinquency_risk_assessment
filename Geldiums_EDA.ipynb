{
 "cells": [
  {
   "cell_type": "code",
   "execution_count": 56,
   "id": "d004b76a",
   "metadata": {},
   "outputs": [],
   "source": [
    "import numpy as np\n",
    "import pandas as pd\n",
    "\n",
    "import warnings\n",
    "warnings.filterwarnings('ignore')\n",
    "\n",
    "import matplotlib.pyplot as plt\n",
    "%matplotlib inline\n",
    "\n",
    "import seaborn as sns"
   ]
  },
  {
   "cell_type": "code",
   "execution_count": 46,
   "id": "a844e353",
   "metadata": {},
   "outputs": [
    {
     "data": {
      "text/html": [
       "<div>\n",
       "<style scoped>\n",
       "    .dataframe tbody tr th:only-of-type {\n",
       "        vertical-align: middle;\n",
       "    }\n",
       "\n",
       "    .dataframe tbody tr th {\n",
       "        vertical-align: top;\n",
       "    }\n",
       "\n",
       "    .dataframe thead th {\n",
       "        text-align: right;\n",
       "    }\n",
       "</style>\n",
       "<table border=\"1\" class=\"dataframe\">\n",
       "  <thead>\n",
       "    <tr style=\"text-align: right;\">\n",
       "      <th></th>\n",
       "      <th>Customer_ID</th>\n",
       "      <th>Age</th>\n",
       "      <th>Income</th>\n",
       "      <th>Credit_Score</th>\n",
       "      <th>Credit_Utilization</th>\n",
       "      <th>Missed_Payments</th>\n",
       "      <th>Delinquent_Account</th>\n",
       "      <th>Loan_Balance</th>\n",
       "      <th>Debt_to_Income_Ratio</th>\n",
       "      <th>Employment_Status</th>\n",
       "      <th>Account_Tenure</th>\n",
       "      <th>Credit_Card_Type</th>\n",
       "      <th>Location</th>\n",
       "      <th>Month_1</th>\n",
       "      <th>Month_2</th>\n",
       "      <th>Month_3</th>\n",
       "      <th>Month_4</th>\n",
       "      <th>Month_5</th>\n",
       "      <th>Month_6</th>\n",
       "    </tr>\n",
       "  </thead>\n",
       "  <tbody>\n",
       "    <tr>\n",
       "      <th>0</th>\n",
       "      <td>CUST0001</td>\n",
       "      <td>56</td>\n",
       "      <td>165580.0</td>\n",
       "      <td>398.0</td>\n",
       "      <td>0.390502</td>\n",
       "      <td>3</td>\n",
       "      <td>0</td>\n",
       "      <td>16310.0</td>\n",
       "      <td>0.317396</td>\n",
       "      <td>EMP</td>\n",
       "      <td>18</td>\n",
       "      <td>Student</td>\n",
       "      <td>Los Angeles</td>\n",
       "      <td>Late</td>\n",
       "      <td>Late</td>\n",
       "      <td>Missed</td>\n",
       "      <td>Late</td>\n",
       "      <td>Missed</td>\n",
       "      <td>Late</td>\n",
       "    </tr>\n",
       "    <tr>\n",
       "      <th>1</th>\n",
       "      <td>CUST0002</td>\n",
       "      <td>69</td>\n",
       "      <td>100999.0</td>\n",
       "      <td>493.0</td>\n",
       "      <td>0.312444</td>\n",
       "      <td>6</td>\n",
       "      <td>1</td>\n",
       "      <td>17401.0</td>\n",
       "      <td>0.196093</td>\n",
       "      <td>Self-employed</td>\n",
       "      <td>0</td>\n",
       "      <td>Standard</td>\n",
       "      <td>Phoenix</td>\n",
       "      <td>Missed</td>\n",
       "      <td>Missed</td>\n",
       "      <td>Late</td>\n",
       "      <td>Missed</td>\n",
       "      <td>On-time</td>\n",
       "      <td>On-time</td>\n",
       "    </tr>\n",
       "    <tr>\n",
       "      <th>2</th>\n",
       "      <td>CUST0003</td>\n",
       "      <td>46</td>\n",
       "      <td>188416.0</td>\n",
       "      <td>500.0</td>\n",
       "      <td>0.359930</td>\n",
       "      <td>0</td>\n",
       "      <td>0</td>\n",
       "      <td>13761.0</td>\n",
       "      <td>0.301655</td>\n",
       "      <td>Self-employed</td>\n",
       "      <td>1</td>\n",
       "      <td>Platinum</td>\n",
       "      <td>Chicago</td>\n",
       "      <td>Missed</td>\n",
       "      <td>Late</td>\n",
       "      <td>Late</td>\n",
       "      <td>On-time</td>\n",
       "      <td>Missed</td>\n",
       "      <td>Late</td>\n",
       "    </tr>\n",
       "    <tr>\n",
       "      <th>3</th>\n",
       "      <td>CUST0004</td>\n",
       "      <td>32</td>\n",
       "      <td>101672.0</td>\n",
       "      <td>413.0</td>\n",
       "      <td>0.371400</td>\n",
       "      <td>3</td>\n",
       "      <td>0</td>\n",
       "      <td>88778.0</td>\n",
       "      <td>0.264794</td>\n",
       "      <td>Unemployed</td>\n",
       "      <td>15</td>\n",
       "      <td>Platinum</td>\n",
       "      <td>Phoenix</td>\n",
       "      <td>Late</td>\n",
       "      <td>Missed</td>\n",
       "      <td>Late</td>\n",
       "      <td>Missed</td>\n",
       "      <td>Late</td>\n",
       "      <td>Late</td>\n",
       "    </tr>\n",
       "    <tr>\n",
       "      <th>4</th>\n",
       "      <td>CUST0005</td>\n",
       "      <td>60</td>\n",
       "      <td>38524.0</td>\n",
       "      <td>487.0</td>\n",
       "      <td>0.234716</td>\n",
       "      <td>2</td>\n",
       "      <td>0</td>\n",
       "      <td>13316.0</td>\n",
       "      <td>0.510583</td>\n",
       "      <td>Self-employed</td>\n",
       "      <td>11</td>\n",
       "      <td>Standard</td>\n",
       "      <td>Phoenix</td>\n",
       "      <td>Missed</td>\n",
       "      <td>On-time</td>\n",
       "      <td>Missed</td>\n",
       "      <td>Late</td>\n",
       "      <td>Late</td>\n",
       "      <td>Late</td>\n",
       "    </tr>\n",
       "  </tbody>\n",
       "</table>\n",
       "</div>"
      ],
      "text/plain": [
       "  Customer_ID  Age    Income  Credit_Score  Credit_Utilization  \\\n",
       "0    CUST0001   56  165580.0         398.0            0.390502   \n",
       "1    CUST0002   69  100999.0         493.0            0.312444   \n",
       "2    CUST0003   46  188416.0         500.0            0.359930   \n",
       "3    CUST0004   32  101672.0         413.0            0.371400   \n",
       "4    CUST0005   60   38524.0         487.0            0.234716   \n",
       "\n",
       "   Missed_Payments  Delinquent_Account  Loan_Balance  Debt_to_Income_Ratio  \\\n",
       "0                3                   0       16310.0              0.317396   \n",
       "1                6                   1       17401.0              0.196093   \n",
       "2                0                   0       13761.0              0.301655   \n",
       "3                3                   0       88778.0              0.264794   \n",
       "4                2                   0       13316.0              0.510583   \n",
       "\n",
       "  Employment_Status  Account_Tenure Credit_Card_Type     Location Month_1  \\\n",
       "0               EMP              18          Student  Los Angeles    Late   \n",
       "1     Self-employed               0         Standard      Phoenix  Missed   \n",
       "2     Self-employed               1         Platinum      Chicago  Missed   \n",
       "3        Unemployed              15         Platinum      Phoenix    Late   \n",
       "4     Self-employed              11         Standard      Phoenix  Missed   \n",
       "\n",
       "   Month_2 Month_3  Month_4  Month_5  Month_6  \n",
       "0     Late  Missed     Late   Missed     Late  \n",
       "1   Missed    Late   Missed  On-time  On-time  \n",
       "2     Late    Late  On-time   Missed     Late  \n",
       "3   Missed    Late   Missed     Late     Late  \n",
       "4  On-time  Missed     Late     Late     Late  "
      ]
     },
     "execution_count": 46,
     "metadata": {},
     "output_type": "execute_result"
    }
   ],
   "source": [
    "df = pd.read_csv(r\"C:\\Users\\ACER\\Downloads\\TATAs\\Delinquency_prediction_dataset_1.csv\")\n",
    "df.head()"
   ]
  },
  {
   "cell_type": "code",
   "execution_count": 47,
   "id": "cc4d973a",
   "metadata": {},
   "outputs": [
    {
     "data": {
      "text/plain": [
       "(500, 19)"
      ]
     },
     "execution_count": 47,
     "metadata": {},
     "output_type": "execute_result"
    }
   ],
   "source": [
    "df.shape"
   ]
  },
  {
   "cell_type": "code",
   "execution_count": 48,
   "id": "5168e15f",
   "metadata": {},
   "outputs": [
    {
     "data": {
      "text/plain": [
       "Customer_ID             0.0\n",
       "Age                     0.0\n",
       "Income                  7.8\n",
       "Credit_Score            0.4\n",
       "Credit_Utilization      0.0\n",
       "Missed_Payments         0.0\n",
       "Delinquent_Account      0.0\n",
       "Loan_Balance            5.8\n",
       "Debt_to_Income_Ratio    0.0\n",
       "Employment_Status       0.0\n",
       "Account_Tenure          0.0\n",
       "Credit_Card_Type        0.0\n",
       "Location                0.0\n",
       "Month_1                 0.0\n",
       "Month_2                 0.0\n",
       "Month_3                 0.0\n",
       "Month_4                 0.0\n",
       "Month_5                 0.0\n",
       "Month_6                 0.0\n",
       "dtype: float64"
      ]
     },
     "execution_count": 48,
     "metadata": {},
     "output_type": "execute_result"
    }
   ],
   "source": [
    "df.isnull().sum()/df.shape[0]*100\n"
   ]
  },
  {
   "cell_type": "code",
   "execution_count": 94,
   "id": "bb9d5515",
   "metadata": {},
   "outputs": [
    {
     "data": {
      "text/plain": [
       "Customer_ID             0\n",
       "Age                     0\n",
       "Income                  0\n",
       "Credit_Score            0\n",
       "Credit_Utilization      0\n",
       "Missed_Payments         0\n",
       "Delinquent_Account      0\n",
       "Loan_Balance            0\n",
       "Debt_to_Income_Ratio    0\n",
       "Employment_Status       0\n",
       "Account_Tenure          0\n",
       "Credit_Card_Type        0\n",
       "Location                0\n",
       "Month_1                 0\n",
       "Month_2                 0\n",
       "Month_3                 0\n",
       "Month_4                 0\n",
       "Month_5                 0\n",
       "Month_6                 0\n",
       "dtype: int64"
      ]
     },
     "execution_count": 94,
     "metadata": {},
     "output_type": "execute_result"
    }
   ],
   "source": [
    "df.isnull().sum()"
   ]
  },
  {
   "cell_type": "code",
   "execution_count": 50,
   "id": "c54476d4",
   "metadata": {},
   "outputs": [
    {
     "name": "stdout",
     "output_type": "stream",
     "text": [
      "<class 'pandas.core.frame.DataFrame'>\n",
      "RangeIndex: 500 entries, 0 to 499\n",
      "Data columns (total 19 columns):\n",
      " #   Column                Non-Null Count  Dtype  \n",
      "---  ------                --------------  -----  \n",
      " 0   Customer_ID           500 non-null    object \n",
      " 1   Age                   500 non-null    int64  \n",
      " 2   Income                461 non-null    float64\n",
      " 3   Credit_Score          498 non-null    float64\n",
      " 4   Credit_Utilization    500 non-null    float64\n",
      " 5   Missed_Payments       500 non-null    int64  \n",
      " 6   Delinquent_Account    500 non-null    int64  \n",
      " 7   Loan_Balance          471 non-null    float64\n",
      " 8   Debt_to_Income_Ratio  500 non-null    float64\n",
      " 9   Employment_Status     500 non-null    object \n",
      " 10  Account_Tenure        500 non-null    int64  \n",
      " 11  Credit_Card_Type      500 non-null    object \n",
      " 12  Location              500 non-null    object \n",
      " 13  Month_1               500 non-null    object \n",
      " 14  Month_2               500 non-null    object \n",
      " 15  Month_3               500 non-null    object \n",
      " 16  Month_4               500 non-null    object \n",
      " 17  Month_5               500 non-null    object \n",
      " 18  Month_6               500 non-null    object \n",
      "dtypes: float64(5), int64(4), object(10)\n",
      "memory usage: 74.3+ KB\n"
     ]
    }
   ],
   "source": [
    "df.info()"
   ]
  },
  {
   "cell_type": "code",
   "execution_count": 51,
   "id": "2d57d624",
   "metadata": {},
   "outputs": [
    {
     "name": "stdout",
     "output_type": "stream",
     "text": [
      "Summary of key columns:\n",
      "\n",
      "Column: Age\n",
      "  missing_%: 0.0\n",
      "  min: 18\n",
      "  max: 74\n",
      "  mean: 46.266\n",
      "  median: 46.5\n",
      "\n",
      "Column: Income\n",
      "  missing_%: 7.8\n",
      "  min: 15404.0\n",
      "  max: 199943.0\n",
      "  mean: 108379.89370932755\n",
      "  median: 107658.0\n",
      "\n",
      "Column: Credit_Score\n",
      "  missing_%: 0.4\n",
      "  min: 301.0\n",
      "  max: 847.0\n",
      "  mean: 577.7168674698795\n",
      "  median: 586.0\n",
      "\n",
      "Column: Credit_Utilization\n",
      "  missing_%: 0.0\n",
      "  min: 0.05\n",
      "  max: 1.025842526\n",
      "  mean: 0.491445905124\n",
      "  median: 0.48563557700000004\n",
      "\n",
      "Column: Missed_Payments\n",
      "  missing_%: 0.0\n",
      "  min: 0\n",
      "  max: 6\n",
      "  mean: 2.968\n",
      "  median: 3.0\n",
      "\n",
      "Column: Delinquent_Account\n",
      "  missing_%: 0.0\n",
      "  min: 0\n",
      "  max: 1\n",
      "  mean: 0.16\n",
      "  median: 0.0\n",
      "\n",
      "Column: Loan_Balance\n",
      "  missing_%: 5.800000000000001\n",
      "  min: 612.0\n",
      "  max: 99620.0\n",
      "  mean: 48654.42887473461\n",
      "  median: 45776.0\n",
      "\n",
      "Column: Debt_to_Income_Ratio\n",
      "  missing_%: 0.0\n",
      "  min: 0.1\n",
      "  max: 0.552956451\n",
      "  mean: 0.29886164362199996\n",
      "  median: 0.301633935\n",
      "\n",
      "Column: Account_Tenure\n",
      "  missing_%: 0.0\n",
      "  min: 0\n",
      "  max: 19\n",
      "  mean: 9.74\n",
      "  median: 10.0\n",
      "\n",
      "Column: Employment_Status\n",
      "  missing_%: 0.0\n",
      "  unique_values: 6\n",
      "  most_common: Unemployed\n",
      "\n",
      "Column: Credit_Card_Type\n",
      "  missing_%: 0.0\n",
      "  unique_values: 5\n",
      "  most_common: Gold\n",
      "\n",
      "Column: Location\n",
      "  missing_%: 0.0\n",
      "  unique_values: 5\n",
      "  most_common: Los Angeles\n",
      "\n",
      "Column: Month_1\n",
      "  missing_%: 0.0\n",
      "  value_counts: {'On-time': 177, 'Missed': 164, 'Late': 159}\n",
      "\n",
      "Column: Month_2\n",
      "  missing_%: 0.0\n",
      "  value_counts: {'Late': 173, 'Missed': 167, 'On-time': 160}\n",
      "\n",
      "Column: Month_3\n",
      "  missing_%: 0.0\n",
      "  value_counts: {'Late': 169, 'On-time': 169, 'Missed': 162}\n",
      "\n",
      "Column: Month_4\n",
      "  missing_%: 0.0\n",
      "  value_counts: {'Late': 181, 'Missed': 160, 'On-time': 159}\n",
      "\n",
      "Column: Month_5\n",
      "  missing_%: 0.0\n",
      "  value_counts: {'Missed': 187, 'On-time': 162, 'Late': 151}\n",
      "\n",
      "Column: Month_6\n",
      "  missing_%: 0.0\n",
      "  value_counts: {'Late': 172, 'Missed': 168, 'On-time': 160}\n",
      "\n",
      "Overall Delinquent Account Rate: 16.00%\n"
     ]
    }
   ],
   "source": [
    "# Summary of key columns and patterns\n",
    "\n",
    "summary = {}\n",
    "\n",
    "# Numeric columns\n",
    "numeric_cols = ['Age', 'Income', 'Credit_Score', 'Credit_Utilization', 'Missed_Payments',\n",
    "                'Delinquent_Account', 'Loan_Balance', 'Debt_to_Income_Ratio', 'Account_Tenure']\n",
    "\n",
    "for col in numeric_cols:\n",
    "    summary[col] = {\n",
    "        'missing_%': df[col].isnull().mean() * 100,\n",
    "        'min': df[col].min(),\n",
    "        'max': df[col].max(),\n",
    "        'mean': df[col].mean(),\n",
    "        'median': df[col].median()\n",
    "    }\n",
    "\n",
    "# Categorical columns\n",
    "categorical_cols = ['Employment_Status', 'Credit_Card_Type', 'Location']\n",
    "\n",
    "for col in categorical_cols:\n",
    "    summary[col] = {\n",
    "        'missing_%': df[col].isnull().mean() * 100,\n",
    "        'unique_values': df[col].nunique(),\n",
    "        'most_common': df[col].mode()[0]\n",
    "    }\n",
    "\n",
    "# Payment status columns\n",
    "payment_cols = [f'Month_{i}' for i in range(1, 7)]\n",
    "for col in payment_cols:\n",
    "    summary[col] = {\n",
    "        'missing_%': df[col].isnull().mean() * 100,\n",
    "        'value_counts': df[col].value_counts().to_dict()\n",
    "    }\n",
    "\n",
    "# Delinquent_Account pattern\n",
    "delinquent_rate = df['Delinquent_Account'].mean() * 100\n",
    "\n",
    "print(\"Summary of key columns:\")\n",
    "for k, v in summary.items():\n",
    "    print(f\"\\nColumn: {k}\")\n",
    "    for stat, val in v.items():\n",
    "        print(f\"  {stat}: {val}\")\n",
    "\n",
    "print(f\"\\nOverall Delinquent Account Rate: {delinquent_rate:.2f}%\")"
   ]
  },
  {
   "cell_type": "code",
   "execution_count": 75,
   "id": "db87038f",
   "metadata": {},
   "outputs": [
    {
     "data": {
      "text/plain": [
       "count       500.000000\n",
       "mean     108379.893709\n",
       "std       51523.025241\n",
       "min       15404.000000\n",
       "25%       67610.500000\n",
       "50%      108379.893709\n",
       "75%      152572.250000\n",
       "max      199943.000000\n",
       "Name: Income, dtype: float64"
      ]
     },
     "execution_count": 75,
     "metadata": {},
     "output_type": "execute_result"
    }
   ],
   "source": [
    "df['Income'].describe()"
   ]
  },
  {
   "cell_type": "code",
   "execution_count": 53,
   "id": "7d5a20d5",
   "metadata": {},
   "outputs": [
    {
     "data": {
      "text/plain": [
       "39"
      ]
     },
     "execution_count": 53,
     "metadata": {},
     "output_type": "execute_result"
    }
   ],
   "source": [
    "df['Income'].isnull().sum()"
   ]
  },
  {
   "cell_type": "code",
   "execution_count": 76,
   "id": "2dcee048",
   "metadata": {},
   "outputs": [
    {
     "data": {
      "text/plain": [
       "<Axes: ylabel='Income'>"
      ]
     },
     "execution_count": 76,
     "metadata": {},
     "output_type": "execute_result"
    },
    {
     "data": {
      "image/png": "[encoded data removed]",
      "text/plain": [
       "<Figure size 640x480 with 1 Axes>"
      ]
     },
     "metadata": {},
     "output_type": "display_data"
    }
   ],
   "source": [
    "sns.boxplot(df['Income'])"
   ]
  },
  {
   "cell_type": "code",
   "execution_count": 74,
   "id": "bc179163",
   "metadata": {},
   "outputs": [
    {
     "data": {
      "image/png": "[encoded data removed]",
      "text/plain": [
       "<Figure size 500x500 with 1 Axes>"
      ]
     },
     "metadata": {},
     "output_type": "display_data"
    }
   ],
   "source": [
    "sns.displot(df['Income'], bins=30, kde=True)\n",
    "plt.axvline(df['Income'].mean(), color= 'r')\n",
    "plt.axvline(df['Income'].median(), color= 'g')\n",
    "plt.show()"
   ]
  },
  {
   "cell_type": "code",
   "execution_count": 70,
   "id": "593390ea",
   "metadata": {},
   "outputs": [
    {
     "name": "stdout",
     "output_type": "stream",
     "text": [
      "108379.89370932755\n",
      "107658.0\n",
      "0.05\n"
     ]
    }
   ],
   "source": [
    "print(df['Income'].mean())\n",
    "print(df['Income'].median())\n",
    "print(df['Income'].skew().round(2))"
   ]
  },
  {
   "cell_type": "code",
   "execution_count": 73,
   "id": "816819b0",
   "metadata": {},
   "outputs": [],
   "source": [
    "\n",
    "df['Income'].fillna(df['Income'].mean(),inplace= True)"
   ]
  },
  {
   "cell_type": "code",
   "execution_count": 85,
   "id": "735e3504",
   "metadata": {},
   "outputs": [
    {
     "data": {
      "text/plain": [
       "count    500.000000\n",
       "mean     577.716867\n",
       "std      168.542432\n",
       "min      301.000000\n",
       "25%      418.750000\n",
       "50%      584.000000\n",
       "75%      725.750000\n",
       "max      847.000000\n",
       "Name: Credit_Score, dtype: float64"
      ]
     },
     "execution_count": 85,
     "metadata": {},
     "output_type": "execute_result"
    }
   ],
   "source": [
    "df['Credit_Score'].describe()"
   ]
  },
  {
   "cell_type": "code",
   "execution_count": 92,
   "id": "8e4b3dfe",
   "metadata": {},
   "outputs": [
    {
     "data": {
      "image/png": "[encoded data removed]",
      "text/plain": [
       "<Figure size 500x500 with 1 Axes>"
      ]
     },
     "metadata": {},
     "output_type": "display_data"
    }
   ],
   "source": [
    "sns.displot(df['Credit_Score'], bins=30, kde=True)\n",
    "plt.axvline(df['Credit_Score'].mean(), color= 'r')\n",
    "plt.axvline(df['Credit_Score'].median(), color= 'g')\n",
    "plt.show()"
   ]
  },
  {
   "cell_type": "code",
   "execution_count": 82,
   "id": "5a49add5",
   "metadata": {},
   "outputs": [
    {
     "name": "stdout",
     "output_type": "stream",
     "text": [
      "Skewness: -0.03405560813525009\n"
     ]
    }
   ],
   "source": [
    "print(\"Skewness:\", df['Credit_Score'].skew())"
   ]
  },
  {
   "cell_type": "code",
   "execution_count": 83,
   "id": "b04541df",
   "metadata": {},
   "outputs": [],
   "source": [
    "df['Credit_Score'].fillna(df['Credit_Score'].mean(), inplace= True)"
   ]
  },
  {
   "cell_type": "code",
   "execution_count": 93,
   "id": "34697121",
   "metadata": {},
   "outputs": [
    {
     "data": {
      "text/plain": [
       "count      500.000000\n",
       "mean     48654.428875\n",
       "std      28528.573640\n",
       "min        612.000000\n",
       "25%      24847.000000\n",
       "50%      48654.428875\n",
       "75%      73809.500000\n",
       "max      99620.000000\n",
       "Name: Loan_Balance, dtype: float64"
      ]
     },
     "execution_count": 93,
     "metadata": {},
     "output_type": "execute_result"
    }
   ],
   "source": [
    "df['Loan_Balance'].describe()"
   ]
  },
  {
   "cell_type": "code",
   "execution_count": 91,
   "id": "64647f45",
   "metadata": {},
   "outputs": [
    {
     "data": {
      "image/png": "[encoded data removed]",
      "text/plain": [
       "<Figure size 500x500 with 1 Axes>"
      ]
     },
     "metadata": {},
     "output_type": "display_data"
    }
   ],
   "source": [
    "sns.displot(df['Loan_Balance'], bins=30, kde=True)\n",
    "plt.axvline(df['Loan_Balance'].mean(), color= 'r')\n",
    "plt.axvline(df['Loan_Balance'].median(), color= 'g')\n",
    "plt.show()"
   ]
  },
  {
   "cell_type": "code",
   "execution_count": 89,
   "id": "9b67a8f5",
   "metadata": {},
   "outputs": [
    {
     "name": "stdout",
     "output_type": "stream",
     "text": [
      "Skewness: 0.1051966422322644\n"
     ]
    }
   ],
   "source": [
    "print(\"Skewness:\", df['Loan_Balance'].skew())"
   ]
  },
  {
   "cell_type": "code",
   "execution_count": 90,
   "id": "093a1b1e",
   "metadata": {},
   "outputs": [],
   "source": [
    "df['Loan_Balance'].fillna(df['Loan_Balance'].mean(), inplace= True)"
   ]
  },
  {
   "cell_type": "code",
   "execution_count": null,
   "id": "4eeb3a91",
   "metadata": {},
   "outputs": [],
   "source": []
  }
 ],
 "metadata": {
  "kernelspec": {
   "display_name": "base",
   "language": "python",
   "name": "python3"
  },
  "language_info": {
   "codemirror_mode": {
    "name": "ipython",
    "version": 3
   },
   "file_extension": ".py",
   "mimetype": "text/x-python",
   "name": "python",
   "nbconvert_exporter": "python",
   "pygments_lexer": "ipython3",
   "version": "3.11.7"
  }
 },
 "nbformat": 4,
 "nbformat_minor": 5
}
